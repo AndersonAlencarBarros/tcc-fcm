{
 "cells": [
  {
   "cell_type": "code",
   "execution_count": 63,
   "id": "291150e7",
   "metadata": {},
   "outputs": [],
   "source": [
    "import pandas as pd\n",
    "import os\n",
    "\n",
    "pd.set_option('display.max_rows', None)"
   ]
  },
  {
   "cell_type": "code",
   "execution_count": 64,
   "id": "5575ecfd",
   "metadata": {},
   "outputs": [],
   "source": [
    "def concatenar_dataframes(pasta: str):\n",
    "    dataframes = []\n",
    "    for arquivo in os.listdir(pasta):\n",
    "        if arquivo.endswith('.csv'):\n",
    "            caminho_arquivo = os.path.join(pasta, arquivo)\n",
    "            df = pd.read_csv(caminho_arquivo)\n",
    "            dataframes.append(df)\n",
    "\n",
    "    return pd.concat(dataframes)"
   ]
  },
  {
   "cell_type": "code",
   "execution_count": 65,
   "id": "d9f6d7d4",
   "metadata": {},
   "outputs": [],
   "source": [
    "pasta_10 = \"src/experimento_10\"\n",
    "pasta_100 = \"src/experimento_100\"\n",
    "pasta_1000 = \"src/experimento_1000\" \n",
    "pasta_10000 = \"src/experimento_10000\" "
   ]
  },
  {
   "cell_type": "code",
   "execution_count": 66,
   "id": "0f19a8a9",
   "metadata": {},
   "outputs": [],
   "source": [
    "df = concatenar_dataframes(pasta_10)\n",
    "df1 = concatenar_dataframes(pasta_100)"
   ]
  },
  {
   "cell_type": "code",
   "execution_count": 67,
   "id": "971c4e85",
   "metadata": {},
   "outputs": [
    {
     "data": {
      "text/plain": [
       "(2000, 8)"
      ]
     },
     "execution_count": 67,
     "metadata": {},
     "output_type": "execute_result"
    }
   ],
   "source": [
    "df.shape"
   ]
  },
  {
   "cell_type": "code",
   "execution_count": 68,
   "id": "1cf77dbc",
   "metadata": {},
   "outputs": [
    {
     "data": {
      "text/plain": [
       "(2000, 8)"
      ]
     },
     "execution_count": 68,
     "metadata": {},
     "output_type": "execute_result"
    }
   ],
   "source": [
    "df1.shape"
   ]
  },
  {
   "cell_type": "code",
   "execution_count": 69,
   "id": "c3f3dffa",
   "metadata": {},
   "outputs": [
    {
     "data": {
      "text/plain": [
       "dimensão  quantidade de agrupamentos  mu    \n",
       "2         2                           1.100      0.218794\n",
       "                                      8.325      0.075982\n",
       "                                      15.550     0.076456\n",
       "                                      22.775     0.076450\n",
       "                                      30.000     0.076056\n",
       "          34                          1.100      4.403766\n",
       "                                      8.325      4.412230\n",
       "                                      15.550     4.416326\n",
       "                                      22.775     4.419980\n",
       "                                      30.000     4.419695\n",
       "          66                          1.100     14.656063\n",
       "                                      8.325     14.744487\n",
       "                                      15.550    14.705594\n",
       "                                      22.775    14.724462\n",
       "                                      30.000    14.783387\n",
       "          99                          1.100     31.748956\n",
       "                                      8.325     32.156622\n",
       "                                      15.550    32.390762\n",
       "                                      22.775    32.379736\n",
       "                                      30.000    33.253821\n",
       "4         2                           1.100      0.078758\n",
       "                                      8.325      0.076380\n",
       "                                      15.550     0.075806\n",
       "                                      22.775     0.076612\n",
       "                                      30.000     0.076473\n",
       "          34                          1.100      4.662580\n",
       "                                      8.325      5.196609\n",
       "                                      15.550     4.552480\n",
       "                                      22.775     4.516215\n",
       "                                      30.000     4.491278\n",
       "          66                          1.100     14.781793\n",
       "                                      8.325     14.933674\n",
       "                                      15.550    14.780436\n",
       "                                      22.775    14.809924\n",
       "                                      30.000    15.351974\n",
       "          99                          1.100     32.485184\n",
       "                                      8.325     32.712593\n",
       "                                      15.550    32.578003\n",
       "                                      22.775    32.349019\n",
       "                                      30.000    32.435885\n",
       "8         2                           1.100      0.082907\n",
       "                                      8.325      0.081837\n",
       "                                      15.550     0.081171\n",
       "                                      22.775     0.084204\n",
       "                                      30.000     0.080863\n",
       "          34                          1.100      4.576155\n",
       "                                      8.325      4.576653\n",
       "                                      15.550     4.597649\n",
       "                                      22.775     4.570715\n",
       "                                      30.000     4.573916\n",
       "          66                          1.100     15.052412\n",
       "                                      8.325     15.181245\n",
       "                                      15.550    14.895221\n",
       "                                      22.775    14.835033\n",
       "                                      30.000    15.164613\n",
       "          99                          1.100     31.742974\n",
       "                                      8.325     31.702123\n",
       "                                      15.550    31.762715\n",
       "                                      22.775    31.838429\n",
       "                                      30.000    31.860060\n",
       "16        2                           1.100      0.083214\n",
       "                                      8.325      0.080906\n",
       "                                      15.550     0.080067\n",
       "                                      22.775     0.081308\n",
       "                                      30.000     0.081264\n",
       "          34                          1.100      4.611004\n",
       "                                      8.325      4.515480\n",
       "                                      15.550     4.530771\n",
       "                                      22.775     4.508619\n",
       "                                      30.000     4.524966\n",
       "          66                          1.100     14.938974\n",
       "                                      8.325     15.592602\n",
       "                                      15.550    14.877260\n",
       "                                      22.775    14.875025\n",
       "                                      30.000    14.841483\n",
       "          99                          1.100     32.464890\n",
       "                                      8.325     33.870989\n",
       "                                      15.550    32.372302\n",
       "                                      22.775    32.722971\n",
       "                                      30.000    33.541898\n",
       "Name: tempo de execução (s), dtype: float64"
      ]
     },
     "execution_count": 69,
     "metadata": {},
     "output_type": "execute_result"
    }
   ],
   "source": [
    "d = df1.groupby(\n",
    "        ['dimensão', 'quantidade de agrupamentos', 'mu']\n",
    ")['tempo de execução (s)'].mean()\n",
    "\n",
    "d"
   ]
  },
  {
   "cell_type": "code",
   "execution_count": 70,
   "id": "35a5145d",
   "metadata": {},
   "outputs": [
    {
     "data": {
      "text/plain": [
       "dimensão  quantidade de agrupamentos\n",
       "2         2                              0.104748\n",
       "          34                             4.414399\n",
       "          66                            14.722798\n",
       "          99                            32.385979\n",
       "4         2                              0.076806\n",
       "          34                             4.683833\n",
       "          66                            14.931560\n",
       "          99                            32.512137\n",
       "8         2                              0.082196\n",
       "          34                             4.579018\n",
       "          66                            15.025705\n",
       "          99                            31.781260\n",
       "16        2                              0.081352\n",
       "          34                             4.538168\n",
       "          66                            15.025069\n",
       "          99                            32.994610\n",
       "Name: tempo de execução (s), dtype: float64"
      ]
     },
     "execution_count": 70,
     "metadata": {},
     "output_type": "execute_result"
    }
   ],
   "source": [
    "df1.groupby(\n",
    "        ['dimensão', 'quantidade de agrupamentos']\n",
    ")['tempo de execução (s)'].mean()"
   ]
  },
  {
   "cell_type": "code",
   "execution_count": null,
   "id": "d8f7637d",
   "metadata": {},
   "outputs": [],
   "source": []
  }
 ],
 "metadata": {
  "kernelspec": {
   "display_name": "Python 3 (ipykernel)",
   "language": "python",
   "name": "python3"
  },
  "language_info": {
   "codemirror_mode": {
    "name": "ipython",
    "version": 3
   },
   "file_extension": ".py",
   "mimetype": "text/x-python",
   "name": "python",
   "nbconvert_exporter": "python",
   "pygments_lexer": "ipython3",
   "version": "3.10.6"
  }
 },
 "nbformat": 4,
 "nbformat_minor": 5
}
