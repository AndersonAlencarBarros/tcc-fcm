{
 "cells": [
  {
   "cell_type": "code",
   "execution_count": 8,
   "id": "291150e7",
   "metadata": {},
   "outputs": [],
   "source": [
    "import pandas as pd\n",
    "import os\n",
    "\n",
    "pd.set_option('display.max_rows', None)"
   ]
  },
  {
   "cell_type": "code",
   "execution_count": 9,
   "id": "5575ecfd",
   "metadata": {},
   "outputs": [],
   "source": [
    "def concatenar_dataframes(pasta: str):\n",
    "    dataframes = []\n",
    "    for arquivo in os.listdir(pasta):\n",
    "        if arquivo.endswith('.csv'):\n",
    "            caminho_arquivo = os.path.join(pasta, arquivo)\n",
    "            df = pd.read_csv(caminho_arquivo)\n",
    "            dataframes.append(df)\n",
    "\n",
    "    return pd.concat(dataframes)"
   ]
  },
  {
   "cell_type": "code",
   "execution_count": 10,
   "id": "d9f6d7d4",
   "metadata": {},
   "outputs": [],
   "source": [
    "pasta_10 = \"src/experimento_10\"\n",
    "pasta_100 = \"src/experimento_100\"\n",
    "pasta_1000 = \"src/experimento_1000\" \n",
    "pasta_10000 = \"src/experimento_10000\" "
   ]
  },
  {
   "cell_type": "code",
   "execution_count": 11,
   "id": "0f19a8a9",
   "metadata": {},
   "outputs": [],
   "source": [
    "df = concatenar_dataframes(pasta_10)\n",
    "df1 = concatenar_dataframes(pasta_100)"
   ]
  },
  {
   "cell_type": "code",
   "execution_count": 12,
   "id": "971c4e85",
   "metadata": {},
   "outputs": [
    {
     "data": {
      "text/plain": [
       "(2000, 8)"
      ]
     },
     "execution_count": 12,
     "metadata": {},
     "output_type": "execute_result"
    }
   ],
   "source": [
    "df.shape"
   ]
  },
  {
   "cell_type": "code",
   "execution_count": 13,
   "id": "1cf77dbc",
   "metadata": {},
   "outputs": [
    {
     "data": {
      "text/plain": [
       "(2000, 8)"
      ]
     },
     "execution_count": 13,
     "metadata": {},
     "output_type": "execute_result"
    }
   ],
   "source": [
    "df1.shape"
   ]
  },
  {
   "cell_type": "code",
   "execution_count": 23,
   "id": "c3f3dffa",
   "metadata": {},
   "outputs": [
    {
     "data": {
      "text/plain": [
       "dimensão  quantidade de agrupamentos\n",
       "2         2                              0.104748\n",
       "          34                             4.414399\n",
       "          66                            14.722798\n",
       "          99                            32.385979\n",
       "4         2                              0.076806\n",
       "          34                             4.683833\n",
       "          66                            14.931560\n",
       "          99                            32.512137\n",
       "8         2                              0.082196\n",
       "          34                             4.579018\n",
       "          66                            15.025705\n",
       "          99                            31.781260\n",
       "16        2                              0.081352\n",
       "          34                             4.538168\n",
       "          66                            15.025069\n",
       "          99                            32.994610\n",
       "Name: tempo de execução (s), dtype: float64"
      ]
     },
     "execution_count": 23,
     "metadata": {},
     "output_type": "execute_result"
    }
   ],
   "source": [
    "df1.groupby(\n",
    "        ['dimensão', 'quantidade de agrupamentos']\n",
    ")['tempo de execução (s)'].mean()"
   ]
  },
  {
   "cell_type": "code",
   "execution_count": null,
   "id": "d8f7637d",
   "metadata": {},
   "outputs": [],
   "source": []
  }
 ],
 "metadata": {
  "kernelspec": {
   "display_name": "Python 3 (ipykernel)",
   "language": "python",
   "name": "python3"
  },
  "language_info": {
   "codemirror_mode": {
    "name": "ipython",
    "version": 3
   },
   "file_extension": ".py",
   "mimetype": "text/x-python",
   "name": "python",
   "nbconvert_exporter": "python",
   "pygments_lexer": "ipython3",
   "version": "3.10.6"
  }
 },
 "nbformat": 4,
 "nbformat_minor": 5
}
