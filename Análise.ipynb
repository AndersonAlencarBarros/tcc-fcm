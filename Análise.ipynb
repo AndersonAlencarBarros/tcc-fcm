{
 "cells": [
  {
   "cell_type": "code",
   "execution_count": 3,
   "id": "291150e7",
   "metadata": {},
   "outputs": [],
   "source": [
    "import pandas as pd\n",
    "import os\n",
    "\n",
    "pd.set_option('display.max_rows', None)"
   ]
  },
  {
   "cell_type": "code",
   "execution_count": 4,
   "id": "5575ecfd",
   "metadata": {},
   "outputs": [],
   "source": [
    "def concatenar_dataframes(pasta: str):\n",
    "    dataframes = []\n",
    "    for arquivo in os.listdir(pasta):\n",
    "        if arquivo.endswith('.csv'):\n",
    "            caminho_arquivo = os.path.join(pasta, arquivo)\n",
    "            df = pd.read_csv(caminho_arquivo)\n",
    "            dataframes.append(df)\n",
    "\n",
    "    return pd.concat(dataframes)"
   ]
  },
  {
   "cell_type": "code",
   "execution_count": 5,
   "id": "d9f6d7d4",
   "metadata": {},
   "outputs": [],
   "source": [
    "pasta_10 = \"src/experimento_10/\"\n",
    "pasta_100 = \"src/experimento_100\"\n",
    "pasta_1000 = \"src/experimento_1000\" \n",
    "pasta_10000 = \"src/experimento_10000\" "
   ]
  },
  {
   "cell_type": "code",
   "execution_count": 6,
   "id": "0f19a8a9",
   "metadata": {},
   "outputs": [],
   "source": [
    "df = concatenar_dataframes(pasta_10)"
   ]
  },
  {
   "cell_type": "code",
   "execution_count": 7,
   "id": "971c4e85",
   "metadata": {},
   "outputs": [
    {
     "data": {
      "text/plain": [
       "(2000, 8)"
      ]
     },
     "execution_count": 7,
     "metadata": {},
     "output_type": "execute_result"
    }
   ],
   "source": [
    "df.shape"
   ]
  },
  {
   "cell_type": "code",
   "execution_count": 8,
   "id": "c3f3dffa",
   "metadata": {},
   "outputs": [
    {
     "data": {
      "text/plain": [
       "dimensão  quantidade de agrupamentos\n",
       "2         2                             0.078215\n",
       "          4                             0.183469\n",
       "          6                             0.321321\n",
       "          9                             0.590247\n",
       "4         2                             0.145104\n",
       "          4                             0.271502\n",
       "          6                             0.443190\n",
       "          9                             0.789708\n",
       "8         2                             0.245722\n",
       "          4                             0.396147\n",
       "          6                             0.628353\n",
       "          9                             1.140555\n",
       "16        2                             0.303870\n",
       "          4                             0.738460\n",
       "          6                             1.288434\n",
       "          9                             2.167674\n",
       "Name: tempo de execução (s), dtype: float64"
      ]
     },
     "execution_count": 8,
     "metadata": {},
     "output_type": "execute_result"
    }
   ],
   "source": [
    "df.groupby(\n",
    "        ['dimensão', 'quantidade de agrupamentos']\n",
    ")['tempo de execução (s)'].mean()"
   ]
  },
  {
   "cell_type": "code",
   "execution_count": 17,
   "id": "d8f7637d",
   "metadata": {},
   "outputs": [
    {
     "data": {
      "text/plain": [
       "0    [[mpf('0.7791849371908801209662840907956960163...\n",
       "0    [[mpf('0.7791849371908801209662840907956960163...\n",
       "0    [[mpf('0.7791849371908801209662840907956960163...\n",
       "0    [[mpf('0.7791849371908801209662840907956960163...\n",
       "Name: centers, dtype: object"
      ]
     },
     "execution_count": 17,
     "metadata": {},
     "output_type": "execute_result"
    }
   ],
   "source": [
    "df['centers']"
   ]
  },
  {
   "cell_type": "code",
   "execution_count": null,
   "id": "fc46480e",
   "metadata": {},
   "outputs": [],
   "source": []
  }
 ],
 "metadata": {
  "kernelspec": {
   "display_name": "Python 3 (ipykernel)",
   "language": "python",
   "name": "python3"
  },
  "language_info": {
   "codemirror_mode": {
    "name": "ipython",
    "version": 3
   },
   "file_extension": ".py",
   "mimetype": "text/x-python",
   "name": "python",
   "nbconvert_exporter": "python",
   "pygments_lexer": "ipython3",
   "version": "3.10.6"
  }
 },
 "nbformat": 4,
 "nbformat_minor": 5
}
